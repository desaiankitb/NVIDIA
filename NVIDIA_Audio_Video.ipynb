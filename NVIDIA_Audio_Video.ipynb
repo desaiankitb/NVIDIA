{
  "nbformat": 4,
  "nbformat_minor": 0,
  "metadata": {
    "colab": {
      "provenance": [],
      "gpuType": "T4",
      "mount_file_id": "1SYgCv1jpjskPxxC8HcQZZKsRDDoxpYno",
      "authorship_tag": "ABX9TyOYYiqtXXym/jLxjwWiEikk",
      "include_colab_link": true
    },
    "kernelspec": {
      "name": "python3",
      "display_name": "Python 3"
    },
    "language_info": {
      "name": "python"
    },
    "accelerator": "GPU"
  },
  "cells": [
    {
      "cell_type": "markdown",
      "metadata": {
        "id": "view-in-github",
        "colab_type": "text"
      },
      "source": [
        "<a href=\"https://colab.research.google.com/github/desaiankitb/NVIDIA/blob/main/NVIDIA_Audio_Video.ipynb\" target=\"_parent\"><img src=\"https://colab.research.google.com/assets/colab-badge.svg\" alt=\"Open In Colab\"/></a>"
      ]
    },
    {
      "cell_type": "code",
      "source": [
        "!zip --help"
      ],
      "metadata": {
        "colab": {
          "base_uri": "https://localhost:8080/"
        },
        "id": "_WG0z4p-iLac",
        "outputId": "6c8885a7-af1b-435a-e2d2-3f1b84506ef4"
      },
      "execution_count": 4,
      "outputs": [
        {
          "output_type": "stream",
          "name": "stdout",
          "text": [
            "Copyright (c) 1990-2008 Info-ZIP - Type 'zip \"-L\"' for software license.\n",
            "Zip 3.0 (July 5th 2008). Usage:\n",
            "zip [-options] [-b path] [-t mmddyyyy] [-n suffixes] [zipfile list] [-xi list]\n",
            "  The default action is to add or replace zipfile entries from list, which\n",
            "  can include the special name - to compress standard input.\n",
            "  If zipfile and list are omitted, zip compresses stdin to stdout.\n",
            "  -f   freshen: only changed files  -u   update: only changed or new files\n",
            "  -d   delete entries in zipfile    -m   move into zipfile (delete OS files)\n",
            "  -r   recurse into directories     -j   junk (don't record) directory names\n",
            "  -0   store only                   -l   convert LF to CR LF (-ll CR LF to LF)\n",
            "  -1   compress faster              -9   compress better\n",
            "  -q   quiet operation              -v   verbose operation/print version info\n",
            "  -c   add one-line comments        -z   add zipfile comment\n",
            "  -@   read names from stdin        -o   make zipfile as old as latest entry\n",
            "  -x   exclude the following names  -i   include only the following names\n",
            "  -F   fix zipfile (-FF try harder) -D   do not add directory entries\n",
            "  -A   adjust self-extracting exe   -J   junk zipfile prefix (unzipsfx)\n",
            "  -T   test zipfile integrity       -X   eXclude eXtra file attributes\n",
            "  -y   store symbolic links as the link instead of the referenced file\n",
            "  -e   encrypt                      -n   don't compress these suffixes\n",
            "  -h2  show more help\n",
            "  \n"
          ]
        }
      ]
    },
    {
      "cell_type": "code",
      "source": [
        "!unzip /content/drive/MyDrive/NVIDIA/files.zip"
      ],
      "metadata": {
        "colab": {
          "base_uri": "https://localhost:8080/"
        },
        "id": "f3yxyqDpi5a4",
        "outputId": "795959f4-f13d-473d-9ac4-b982d6ba7685"
      },
      "execution_count": 5,
      "outputs": [
        {
          "output_type": "stream",
          "name": "stdout",
          "text": [
            "Archive:  /content/drive/MyDrive/NVIDIA/files.zip\n",
            "  inflating: NVIDIA_AFX_SDK_Linux_1.3.0.21.tar.gz  \n"
          ]
        }
      ]
    },
    {
      "cell_type": "code",
      "source": [
        "!tar xvf /content/NVIDIA_AFX_SDK_Linux_1.3.0.21.tar.gz"
      ],
      "metadata": {
        "colab": {
          "base_uri": "https://localhost:8080/"
        },
        "id": "txuZHVnyje2a",
        "outputId": "0464fbba-d362-447f-d51d-5504209e70e0"
      },
      "execution_count": 6,
      "outputs": [
        {
          "output_type": "stream",
          "name": "stdout",
          "text": [
            "./\n",
            "./Audio_Effects_SDK/\n",
            "./Audio_Effects_SDK/README.md\n",
            "./Audio_Effects_SDK/models/\n",
            "./Audio_Effects_SDK/models/sm_75/\n",
            "./Audio_Effects_SDK/models/sm_75/superres_16k_to_48k_96.trtpkg\n",
            "./Audio_Effects_SDK/models/sm_75/dereverb_denoiser_48k_384.trtpkg\n",
            "./Audio_Effects_SDK/models/sm_75/dereverb_48k.trtpkg\n",
            "./Audio_Effects_SDK/models/sm_75/aec_16k.trtpkg\n",
            "./Audio_Effects_SDK/models/sm_75/superres_8k_to_16k.trtpkg\n",
            "./Audio_Effects_SDK/models/sm_75/denoiser_16k_1024.trtpkg\n",
            "./Audio_Effects_SDK/models/sm_75/dereverb_denoiser_16k.trtpkg\n",
            "./Audio_Effects_SDK/models/sm_75/dereverb_16k_1280.trtpkg\n",
            "./Audio_Effects_SDK/models/sm_75/denoiser_48k_1280.trtpkg\n",
            "./Audio_Effects_SDK/models/sm_75/superres_8k_to_48k_64.trtpkg\n",
            "./Audio_Effects_SDK/models/sm_75/superres_8k_to_48k.trtpkg\n",
            "./Audio_Effects_SDK/models/sm_75/dereverb_denoiser_48k.trtpkg\n",
            "./Audio_Effects_SDK/models/sm_75/superres_8k_to_16k_192.trtpkg\n",
            "./Audio_Effects_SDK/models/sm_75/aec_48k.trtpkg\n",
            "./Audio_Effects_SDK/models/sm_75/aec_48k_576.trtpkg\n",
            "./Audio_Effects_SDK/models/sm_75/denoiser_16k.trtpkg\n",
            "./Audio_Effects_SDK/models/sm_75/dereverb_16k.trtpkg\n",
            "./Audio_Effects_SDK/models/sm_75/aec_16k_1664.trtpkg\n",
            "./Audio_Effects_SDK/models/sm_75/dereverb_48k_1280.trtpkg\n",
            "./Audio_Effects_SDK/models/sm_75/dereverb_denoiser_16k_1152.trtpkg\n",
            "./Audio_Effects_SDK/models/sm_75/superres_16k_to_48k.trtpkg\n",
            "./Audio_Effects_SDK/models/sm_75/denoiser_48k.trtpkg\n",
            "./Audio_Effects_SDK/models/sm_86/\n",
            "./Audio_Effects_SDK/models/sm_86/dereverb_48k_3072.trtpkg\n",
            "./Audio_Effects_SDK/models/sm_86/dereverb_48k.trtpkg\n",
            "./Audio_Effects_SDK/models/sm_86/dereverb_denoiser_16k_3072.trtpkg\n",
            "./Audio_Effects_SDK/models/sm_86/aec_16k.trtpkg\n",
            "./Audio_Effects_SDK/models/sm_86/denoiser_16k_3072.trtpkg\n",
            "./Audio_Effects_SDK/models/sm_86/superres_8k_to_16k.trtpkg\n",
            "./Audio_Effects_SDK/models/sm_86/aec_48k_1536.trtpkg\n",
            "./Audio_Effects_SDK/models/sm_86/superres_8k_to_48k_128.trtpkg\n",
            "./Audio_Effects_SDK/models/sm_86/dereverb_denoiser_16k.trtpkg\n",
            "./Audio_Effects_SDK/models/sm_86/superres_8k_to_48k.trtpkg\n",
            "./Audio_Effects_SDK/models/sm_86/aec_16k_3072.trtpkg\n",
            "./Audio_Effects_SDK/models/sm_86/dereverb_denoiser_48k.trtpkg\n",
            "./Audio_Effects_SDK/models/sm_86/denoiser_48k_3072.trtpkg\n",
            "./Audio_Effects_SDK/models/sm_86/dereverb_denoiser_48k_1024.trtpkg\n",
            "./Audio_Effects_SDK/models/sm_86/aec_48k.trtpkg\n",
            "./Audio_Effects_SDK/models/sm_86/denoiser_16k.trtpkg\n",
            "./Audio_Effects_SDK/models/sm_86/dereverb_16k.trtpkg\n",
            "./Audio_Effects_SDK/models/sm_86/superres_16k_to_48k_192.trtpkg\n",
            "./Audio_Effects_SDK/models/sm_86/superres_16k_to_48k.trtpkg\n",
            "./Audio_Effects_SDK/models/sm_86/denoiser_48k.trtpkg\n",
            "./Audio_Effects_SDK/models/sm_86/superres_8k_to_16k_416.trtpkg\n",
            "./Audio_Effects_SDK/models/sm_86/dereverb_16k_3072.trtpkg\n",
            "./Audio_Effects_SDK/models/sm_80/\n",
            "./Audio_Effects_SDK/models/sm_80/aec_48k_3072.trtpkg\n",
            "./Audio_Effects_SDK/models/sm_80/dereverb_48k.trtpkg\n",
            "./Audio_Effects_SDK/models/sm_80/aec_16k.trtpkg\n",
            "./Audio_Effects_SDK/models/sm_80/superres_8k_to_48k_384.trtpkg\n",
            "./Audio_Effects_SDK/models/sm_80/denoiser_16k_5120.trtpkg\n",
            "./Audio_Effects_SDK/models/sm_80/dereverb_48k_5120.trtpkg\n",
            "./Audio_Effects_SDK/models/sm_80/aec_16k_5120.trtpkg\n",
            "./Audio_Effects_SDK/models/sm_80/superres_8k_to_16k.trtpkg\n",
            "./Audio_Effects_SDK/models/sm_80/dereverb_denoiser_16k_5120.trtpkg\n",
            "./Audio_Effects_SDK/models/sm_80/dereverb_denoiser_48k_2048.trtpkg\n",
            "./Audio_Effects_SDK/models/sm_80/dereverb_denoiser_16k.trtpkg\n",
            "./Audio_Effects_SDK/models/sm_80/superres_8k_to_48k.trtpkg\n",
            "./Audio_Effects_SDK/models/sm_80/dereverb_denoiser_48k.trtpkg\n",
            "./Audio_Effects_SDK/models/sm_80/aec_48k.trtpkg\n",
            "./Audio_Effects_SDK/models/sm_80/denoiser_16k.trtpkg\n",
            "./Audio_Effects_SDK/models/sm_80/dereverb_16k_5120.trtpkg\n",
            "./Audio_Effects_SDK/models/sm_80/denoiser_48k_5120.trtpkg\n",
            "./Audio_Effects_SDK/models/sm_80/dereverb_16k.trtpkg\n",
            "./Audio_Effects_SDK/models/sm_80/superres_16k_to_48k.trtpkg\n",
            "./Audio_Effects_SDK/models/sm_80/denoiser_48k.trtpkg\n",
            "./Audio_Effects_SDK/models/sm_80/superres_16k_to_48k_448.trtpkg\n",
            "./Audio_Effects_SDK/models/sm_80/superres_8k_to_16k_928.trtpkg\n",
            "./Audio_Effects_SDK/models/sm_70/\n",
            "./Audio_Effects_SDK/models/sm_70/aec_16k_2560.trtpkg\n",
            "./Audio_Effects_SDK/models/sm_70/denoiser_16k_2560.trtpkg\n",
            "./Audio_Effects_SDK/models/sm_70/dereverb_16k_2560.trtpkg\n",
            "./Audio_Effects_SDK/models/sm_70/dereverb_48k.trtpkg\n",
            "./Audio_Effects_SDK/models/sm_70/dereverb_48k_2560.trtpkg\n",
            "./Audio_Effects_SDK/models/sm_70/aec_16k.trtpkg\n",
            "./Audio_Effects_SDK/models/sm_70/superres_8k_to_16k.trtpkg\n",
            "./Audio_Effects_SDK/models/sm_70/superres_8k_to_16k_512.trtpkg\n",
            "./Audio_Effects_SDK/models/sm_70/aec_48k_1536.trtpkg\n",
            "./Audio_Effects_SDK/models/sm_70/dereverb_denoiser_16k.trtpkg\n",
            "./Audio_Effects_SDK/models/sm_70/superres_8k_to_48k.trtpkg\n",
            "./Audio_Effects_SDK/models/sm_70/dereverb_denoiser_48k.trtpkg\n",
            "./Audio_Effects_SDK/models/sm_70/dereverb_denoiser_16k_2560.trtpkg\n",
            "./Audio_Effects_SDK/models/sm_70/dereverb_denoiser_48k_1024.trtpkg\n",
            "./Audio_Effects_SDK/models/sm_70/aec_48k.trtpkg\n",
            "./Audio_Effects_SDK/models/sm_70/denoiser_16k.trtpkg\n",
            "./Audio_Effects_SDK/models/sm_70/dereverb_16k.trtpkg\n",
            "./Audio_Effects_SDK/models/sm_70/superres_8k_to_48k_192.trtpkg\n",
            "./Audio_Effects_SDK/models/sm_70/superres_16k_to_48k.trtpkg\n",
            "./Audio_Effects_SDK/models/sm_70/denoiser_48k.trtpkg\n",
            "./Audio_Effects_SDK/models/sm_70/denoiser_48k_2560.trtpkg\n",
            "./Audio_Effects_SDK/models/sm_70/superres_16k_to_48k_256.trtpkg\n",
            "./Audio_Effects_SDK/samples/\n",
            "./Audio_Effects_SDK/samples/effects_demo/\n",
            "./Audio_Effects_SDK/samples/effects_demo/v100_denoise48k_1_cfg.txt\n",
            "./Audio_Effects_SDK/samples/effects_demo/example_config.txt\n",
            "./Audio_Effects_SDK/samples/effects_demo/t4_denoise48k_1_cfg.txt\n",
            "./Audio_Effects_SDK/samples/effects_demo/list.sh\n",
            "./Audio_Effects_SDK/samples/effects_demo/run_effect.sh\n",
            "./Audio_Effects_SDK/samples/effects_demo/a100_denoise48k_1_cfg.txt\n",
            "./Audio_Effects_SDK/samples/effects_demo/a10_denoise16k_1_cfg.txt\n",
            "./Audio_Effects_SDK/samples/effects_demo/run_effect_chained.sh\n",
            "./Audio_Effects_SDK/samples/effects_demo/v100_denoise16k_1_cfg.txt\n",
            "./Audio_Effects_SDK/samples/effects_demo/t4_denoise16k_1_cfg.txt\n",
            "./Audio_Effects_SDK/samples/effects_demo/effects_demo\n",
            "./Audio_Effects_SDK/samples/effects_demo/effects_demo.cpp\n",
            "./Audio_Effects_SDK/samples/effects_demo/Makefile\n",
            "./Audio_Effects_SDK/samples/effects_demo/a10_denoise48k_1_cfg.txt\n",
            "./Audio_Effects_SDK/samples/effects_demo/a100_denoise16k_1_cfg.txt\n",
            "./Audio_Effects_SDK/samples/effects_delayed_streams_demo/\n",
            "./Audio_Effects_SDK/samples/effects_delayed_streams_demo/list.sh\n",
            "./Audio_Effects_SDK/samples/effects_delayed_streams_demo/run_effect.sh\n",
            "./Audio_Effects_SDK/samples/effects_delayed_streams_demo/run_effect_chained.sh\n",
            "./Audio_Effects_SDK/samples/effects_delayed_streams_demo/effects_delayed_streams_demo.cpp\n",
            "./Audio_Effects_SDK/samples/effects_delayed_streams_demo/effects_delayed_streams_demo\n",
            "./Audio_Effects_SDK/samples/effects_delayed_streams_demo/Makefile\n",
            "./Audio_Effects_SDK/samples/utils/\n",
            "./Audio_Effects_SDK/samples/utils/wave_reader/\n",
            "./Audio_Effects_SDK/samples/utils/wave_reader/waveReadWrite.cpp\n",
            "./Audio_Effects_SDK/samples/utils/wave_reader/wave.hpp\n",
            "./Audio_Effects_SDK/samples/utils/wave_reader/waveReadWrite.hpp\n",
            "./Audio_Effects_SDK/samples/utils/ConfigReader.cpp\n",
            "./Audio_Effects_SDK/samples/utils/ConfigReader.hpp\n",
            "./Audio_Effects_SDK/samples/input_files/\n",
            "./Audio_Effects_SDK/samples/input_files/chaining/\n",
            "./Audio_Effects_SDK/samples/input_files/chaining/dereverb_16k_superres_16k/\n",
            "./Audio_Effects_SDK/samples/input_files/chaining/dereverb_16k_superres_16k/Echo_Craig_16k_short.wav\n",
            "./Audio_Effects_SDK/samples/input_files/chaining/dereverb_16k_superres_16k/Echo_Craig_16k.wav\n",
            "./Audio_Effects_SDK/samples/input_files/chaining/superres_8k_dereverb_denoiser_16k/\n",
            "./Audio_Effects_SDK/samples/input_files/chaining/superres_8k_dereverb_denoiser_16k/Air_Conditioning_8k.wav\n",
            "./Audio_Effects_SDK/samples/input_files/chaining/superres_8k_dereverb_denoiser_16k/Air_Conditioning_8k_short.wav\n",
            "./Audio_Effects_SDK/samples/input_files/chaining/denoiser_16k_superres_16k/\n",
            "./Audio_Effects_SDK/samples/input_files/chaining/denoiser_16k_superres_16k/Typing_16k.wav\n",
            "./Audio_Effects_SDK/samples/input_files/chaining/denoiser_16k_superres_16k/Chip_Bag_16k_short.wav\n",
            "./Audio_Effects_SDK/samples/input_files/chaining/denoiser_16k_superres_16k/Chip_Bag_16k.wav\n",
            "./Audio_Effects_SDK/samples/input_files/chaining/superres_8k_denoiser_16k/\n",
            "./Audio_Effects_SDK/samples/input_files/chaining/superres_8k_denoiser_16k/Typing_8k.wav\n",
            "./Audio_Effects_SDK/samples/input_files/chaining/superres_8k_denoiser_16k/Chip_Bag_8k_short.wav\n",
            "./Audio_Effects_SDK/samples/input_files/chaining/superres_8k_denoiser_16k/Chip_Bag_8k.wav\n",
            "./Audio_Effects_SDK/samples/input_files/chaining/superres_8k_dereverb_16k/\n",
            "./Audio_Effects_SDK/samples/input_files/chaining/superres_8k_dereverb_16k/Echo_Craig_8k_short.wav\n",
            "./Audio_Effects_SDK/samples/input_files/chaining/superres_8k_dereverb_16k/Echo_Craig_8k.wav\n",
            "./Audio_Effects_SDK/samples/input_files/chaining/dereverb_denoiser_16k_superres_16k/\n",
            "./Audio_Effects_SDK/samples/input_files/chaining/dereverb_denoiser_16k_superres_16k/Craig_Echo_ChipBag_16k.wav\n",
            "./Audio_Effects_SDK/samples/input_files/chaining/dereverb_denoiser_16k_superres_16k/Craig_Echo_ChipBag_16k_short.wav\n",
            "./Audio_Effects_SDK/samples/input_files/aec/\n",
            "./Audio_Effects_SDK/samples/input_files/aec/48k/\n",
            "./Audio_Effects_SDK/samples/input_files/aec/48k/nearend/\n",
            "./Audio_Effects_SDK/samples/input_files/aec/48k/nearend/nearend_48k_short.wav\n",
            "./Audio_Effects_SDK/samples/input_files/aec/48k/nearend/nearend_48k.wav\n",
            "./Audio_Effects_SDK/samples/input_files/aec/48k/farend/\n",
            "./Audio_Effects_SDK/samples/input_files/aec/48k/farend/farend_48k.wav\n",
            "./Audio_Effects_SDK/samples/input_files/aec/48k/farend/farend_48k_short.wav\n",
            "./Audio_Effects_SDK/samples/input_files/aec/16k/\n",
            "./Audio_Effects_SDK/samples/input_files/aec/16k/nearend/\n",
            "./Audio_Effects_SDK/samples/input_files/aec/16k/nearend/nearend_16k_2.wav\n",
            "./Audio_Effects_SDK/samples/input_files/aec/16k/nearend/nearend_16k_short.wav\n",
            "./Audio_Effects_SDK/samples/input_files/aec/16k/nearend/nearend_16k.wav\n",
            "./Audio_Effects_SDK/samples/input_files/aec/16k/farend/\n",
            "./Audio_Effects_SDK/samples/input_files/aec/16k/farend/farend_16k_short.wav\n",
            "./Audio_Effects_SDK/samples/input_files/aec/16k/farend/farend_16k.wav\n",
            "./Audio_Effects_SDK/samples/input_files/aec/16k/farend/farend_16k_2.wav\n",
            "./Audio_Effects_SDK/samples/input_files/dereverb_denoiser/\n",
            "./Audio_Effects_SDK/samples/input_files/dereverb_denoiser/48k/\n",
            "./Audio_Effects_SDK/samples/input_files/dereverb_denoiser/48k/VAD_Echo_Typing.wav\n",
            "./Audio_Effects_SDK/samples/input_files/dereverb_denoiser/48k/VAD_Echo_Fan.wav\n",
            "./Audio_Effects_SDK/samples/input_files/dereverb_denoiser/48k/Echo_AirConditioner_48k.wav\n",
            "./Audio_Effects_SDK/samples/input_files/dereverb_denoiser/48k/Echo_Fan_48k_short.wav\n",
            "./Audio_Effects_SDK/samples/input_files/dereverb_denoiser/16k/\n",
            "./Audio_Effects_SDK/samples/input_files/dereverb_denoiser/16k/Echo_AirConditioner_16k.wav\n",
            "./Audio_Effects_SDK/samples/input_files/dereverb_denoiser/16k/Echo_Fan_16k_short.wav\n",
            "./Audio_Effects_SDK/samples/input_files/dereverb_denoiser/16k/VAD_Echo_Typing.wav\n",
            "./Audio_Effects_SDK/samples/input_files/dereverb_denoiser/16k/VAD_Echo_Fan.wav\n",
            "./Audio_Effects_SDK/samples/input_files/dereverb_denoiser/16k/Echo_Fan_16k.wav\n",
            "./Audio_Effects_SDK/samples/input_files/dereverb/\n",
            "./Audio_Effects_SDK/samples/input_files/dereverb/48k/\n",
            "./Audio_Effects_SDK/samples/input_files/dereverb/48k/Echo_Craig_48k.wav\n",
            "./Audio_Effects_SDK/samples/input_files/dereverb/48k/Echo_Craig_48k_short.wav\n",
            "./Audio_Effects_SDK/samples/input_files/dereverb/16k/\n",
            "./Audio_Effects_SDK/samples/input_files/dereverb/16k/Echo_Craig_16k_short.wav\n",
            "./Audio_Effects_SDK/samples/input_files/dereverb/16k/Echo_Craig_16k.wav\n",
            "./Audio_Effects_SDK/samples/input_files/denoiser/\n",
            "./Audio_Effects_SDK/samples/input_files/denoiser/48k/\n",
            "./Audio_Effects_SDK/samples/input_files/denoiser/48k/Typing_48k.wav\n",
            "./Audio_Effects_SDK/samples/input_files/denoiser/48k/Fan_48k.wav\n",
            "./Audio_Effects_SDK/samples/input_files/denoiser/48k/Chip_Bag_48k.wav\n",
            "./Audio_Effects_SDK/samples/input_files/denoiser/48k/Air_Conditioning_48k_short.wav\n",
            "./Audio_Effects_SDK/samples/input_files/denoiser/48k/VAD_Rain_48k.wav\n",
            "./Audio_Effects_SDK/samples/input_files/denoiser/48k/Air_Conditioning_48k.wav\n",
            "./Audio_Effects_SDK/samples/input_files/denoiser/16k/\n",
            "./Audio_Effects_SDK/samples/input_files/denoiser/16k/Fan_16k.wav\n",
            "./Audio_Effects_SDK/samples/input_files/denoiser/16k/Air_Conditioning_16k.wav\n",
            "./Audio_Effects_SDK/samples/input_files/denoiser/16k/Typing_16k.wav\n",
            "./Audio_Effects_SDK/samples/input_files/denoiser/16k/Air_Conditioning_16k_short.wav\n",
            "./Audio_Effects_SDK/samples/input_files/denoiser/16k/Chip_Bag_16k.wav\n",
            "./Audio_Effects_SDK/samples/input_files/denoiser/16k/VAD_Rain_16k.wav\n",
            "./Audio_Effects_SDK/samples/input_files/superres/\n",
            "./Audio_Effects_SDK/samples/input_files/superres/8k/\n",
            "./Audio_Effects_SDK/samples/input_files/superres/8k/superres_8k_short.wav\n",
            "./Audio_Effects_SDK/samples/input_files/superres/8k/superres_8k.wav\n",
            "./Audio_Effects_SDK/samples/input_files/superres/16k/\n",
            "./Audio_Effects_SDK/samples/input_files/superres/16k/superres_16k_short.wav\n",
            "./Audio_Effects_SDK/samples/input_files/superres/16k/superres_16k.wav\n",
            "./Audio_Effects_SDK/Maxine SDK License.pdf\n",
            "./Audio_Effects_SDK/nvafx/\n",
            "./Audio_Effects_SDK/nvafx/include/\n",
            "./Audio_Effects_SDK/nvafx/include/nvAudioEffects.h\n",
            "./Audio_Effects_SDK/nvafx/lib/\n",
            "./Audio_Effects_SDK/nvafx/lib/libnv_audiofx.so.1.3.0\n",
            "./Audio_Effects_SDK/nvafx/lib/libnv_audiofx.so\n",
            "./Audio_Effects_SDK/nvafx/lib/libnv_audiofx.so.1\n",
            "./Audio_Effects_SDK/external/\n",
            "./Audio_Effects_SDK/external/cuda/\n",
            "./Audio_Effects_SDK/external/cuda/lib/\n",
            "./Audio_Effects_SDK/external/cuda/lib/libnvrtc.so.11.8.89\n",
            "./Audio_Effects_SDK/external/cuda/lib/libnvinfer.so.8\n",
            "./Audio_Effects_SDK/external/cuda/lib/libcudart.so.11.0\n",
            "./Audio_Effects_SDK/external/cuda/lib/libcufft.so.10.9.0.58\n",
            "./Audio_Effects_SDK/external/cuda/lib/libnvrtc.so.11.2\n",
            "./Audio_Effects_SDK/external/cuda/lib/libcudnn_ops_infer.so.8.6.0\n",
            "./Audio_Effects_SDK/external/cuda/lib/libnvparsers.so.8\n",
            "./Audio_Effects_SDK/external/cuda/lib/libcublas.so.11\n",
            "./Audio_Effects_SDK/external/cuda/lib/libnvinfer.so.8.5.1\n",
            "./Audio_Effects_SDK/external/cuda/lib/libcublasLt.so.11\n",
            "./Audio_Effects_SDK/external/cuda/lib/libcudart.so.11.8.89\n",
            "./Audio_Effects_SDK/external/cuda/lib/libcudnn_ops_infer.so\n",
            "./Audio_Effects_SDK/external/cuda/lib/libcublas.so.11.11.3.6\n",
            "./Audio_Effects_SDK/external/cuda/lib/libcudnn.so\n",
            "./Audio_Effects_SDK/external/cuda/lib/libnvinfer_plugin.so.8\n",
            "./Audio_Effects_SDK/external/cuda/lib/libcudart.so\n",
            "./Audio_Effects_SDK/external/cuda/lib/libcudnn_ops_infer.so.8\n",
            "./Audio_Effects_SDK/external/cuda/lib/libcudnn.so.8\n",
            "./Audio_Effects_SDK/external/cuda/lib/libcublasLt.so\n",
            "./Audio_Effects_SDK/external/cuda/lib/libcudnn.so.8.6.0\n",
            "./Audio_Effects_SDK/external/cuda/lib/libcublas.so\n",
            "./Audio_Effects_SDK/external/cuda/lib/libnvrtc.so\n",
            "./Audio_Effects_SDK/external/cuda/lib/libnvparsers.so.8.5.1\n",
            "./Audio_Effects_SDK/external/cuda/lib/libcublasLt.so.11.11.3.6\n",
            "./Audio_Effects_SDK/external/cuda/lib/libcufft.so\n",
            "./Audio_Effects_SDK/external/cuda/lib/libnvinfer_plugin.so.8.5.1\n",
            "./Audio_Effects_SDK/external/cuda/lib/libcufft.so.10\n",
            "./Audio_Effects_SDK/external/ThirdPartyLicenses.txt\n",
            "./Audio_Effects_SDK/version.h\n"
          ]
        }
      ]
    },
    {
      "cell_type": "code",
      "source": [
        "!yes | apt-get install -y cuda-compat-11-8"
      ],
      "metadata": {
        "colab": {
          "base_uri": "https://localhost:8080/"
        },
        "id": "Qvor_YFwjF2Z",
        "outputId": "b60e222e-d9a8-428d-a1f6-009f1f1574ac"
      },
      "execution_count": 7,
      "outputs": [
        {
          "output_type": "stream",
          "name": "stdout",
          "text": [
            "Reading package lists... Done\n",
            "Building dependency tree... Done\n",
            "Reading state information... Done\n",
            "cuda-compat-11-8 is already the newest version (520.61.05-1).\n",
            "0 upgraded, 0 newly installed, 0 to remove and 18 not upgraded.\n"
          ]
        }
      ]
    },
    {
      "cell_type": "code",
      "source": [
        "%cd /content/Audio_Effects_SDK/samples/effects_demo/"
      ],
      "metadata": {
        "colab": {
          "base_uri": "https://localhost:8080/"
        },
        "id": "DGZNRGd7kcqf",
        "outputId": "e8ae2a80-bb8a-42cb-db59-5a379ff6d1f0"
      },
      "execution_count": 20,
      "outputs": [
        {
          "output_type": "stream",
          "name": "stdout",
          "text": [
            "/content/Audio_Effects_SDK/samples/effects_demo\n"
          ]
        }
      ]
    },
    {
      "cell_type": "code",
      "source": [
        "!pwd"
      ],
      "metadata": {
        "colab": {
          "base_uri": "https://localhost:8080/"
        },
        "id": "DAmsnsTDlHzm",
        "outputId": "683fdbb7-eff1-402d-e002-2fb7f5911fa2"
      },
      "execution_count": 21,
      "outputs": [
        {
          "output_type": "stream",
          "name": "stdout",
          "text": [
            "/content/Audio_Effects_SDK/samples/effects_demo\n"
          ]
        }
      ]
    },
    {
      "cell_type": "code",
      "source": [
        "!/content/Audio_Effects_SDK/samples/effects_demo/run_effect.sh"
      ],
      "metadata": {
        "colab": {
          "base_uri": "https://localhost:8080/"
        },
        "id": "w8xXR2Z_jthk",
        "outputId": "5a0ae6c0-46f5-4e36-f07f-8614be389825"
      },
      "execution_count": 22,
      "outputs": [
        {
          "output_type": "stream",
          "name": "stdout",
          "text": [
            "Using the config file /tmp/tmp_cfg.txt\n",
            "intensity ratio is ::1!!\n",
            "Total Effects supported: 5\n",
            "(1) denoiser\n",
            "(2) dereverb\n",
            "(3) dereverb_denoiser\n",
            "(4) aec\n",
            "(5) superres\n",
            "[I] [0:0:0:0] [6290] Logging Severity Level: INFO, Logging Target: 1\n",
            "[I] [0:0:0:19] [6290] Denoiser effect successfully created\n",
            "[I] [0:0:0:19] [6290] Use default GPU: 0\n",
            "[I] [0:0:0:19] [6290] Sample rate: 16000\n",
            "[I] [0:0:0:19] [6290] Model file name: denoiser_16k_1024.trtpkg\n",
            "[I] [0:0:0:19] [6290] Num streams: 1\n",
            "[I] [0:0:0:19] [6290] Num samples: 160\n",
            "Loading effect ... [I] [0:0:0:19] [6290] Previous Intensity Ratio [1.00]\n",
            "[I] [0:0:0:19] [6290] Intensity Ratio: 1.00 \n",
            "Done\n",
            "Effect properties:\n",
            "  Effect             : denoiser\n",
            "  Input Channels     : 1\n",
            "  Input Sample Rate  : 16000\n",
            "[I] [0:0:1:889] [6290] Model successfully loaded\n",
            "  Output Sample Rate : 16000\n",
            "  Samples per frame  : 160\n",
            "  Number of streams  : 1\n",
            "Total number of samples: 370334\n",
            "Size in bytes: 740668\n",
            "Sample rate: 16000\n",
            "Bits/sample: 16\n",
            "Input wav file: ../input_files/denoiser/16k/Air_Conditioning_16k.wav\n",
            "Total 370334 samples read\n",
            "Processed: [==========] 100% \n",
            "Processing time 1.7 secs for 23 secs audio file (0.073 secs processing time per sec of audio)\n",
            "Output wav files written. \n",
            "[I] [0:0:3:605] [6290] Total successful runs: 2315\n"
          ]
        }
      ]
    },
    {
      "cell_type": "code",
      "source": [
        "!/content/Audio_Effects_SDK/samples/effects_demo/run_effect.sh -g t4 -s 16 -b 10 -e denoiser"
      ],
      "metadata": {
        "colab": {
          "base_uri": "https://localhost:8080/"
        },
        "id": "b-grhX0SlI3M",
        "outputId": "12a94991-8eff-4233-8d78-d57f4ea56758"
      },
      "execution_count": 24,
      "outputs": [
        {
          "output_type": "stream",
          "name": "stdout",
          "text": [
            "Using the config file /tmp/tmp_cfg.txt\n",
            "intensity ratio is ::1!!\n",
            "Total Effects supported: 5[I] [0:0:0:0] [7840] Logging Severity Level: INFO, Logging Target: 1\n",
            "\n",
            "(1) denoiser\n",
            "(2) dereverb\n",
            "(3) dereverb_denoiser\n",
            "(4) aec\n",
            "(5) superres\n",
            "[I] [0:0:0:18] [7840] Denoiser effect successfully created\n",
            "[I] [0:0:0:18] [7840] Use default GPU: 0\n",
            "[I] [0:0:0:18] [7840] Sample rate: 16000\n",
            "[I] [0:0:0:18] [7840] Model file name: denoiser_16k_1024.trtpkg\n",
            "[I] [0:0:0:18] [7840] Num streams: 10\n",
            "[I] [0:0:0:18] [7840] Num samples: 160\n",
            "Loading effect ... [I] [0:0:0:18] [7840] Previous Intensity Ratio [1.00]\n",
            "[I] [0:0:0:18] [7840] Intensity Ratio: 1.00 \n",
            "Done\n",
            "Effect properties:\n",
            "  Effect             : denoiser\n",
            "  Input Channels     : 1\n",
            "  Input Sample Rate  : 16000\n",
            "  Output Sample Rate : 16000\n",
            "  Samples per frame  : 160\n",
            "  Number of streams  : 10\n",
            "[I] [0:0:1:853] [7840] Model successfully loaded\n",
            "Total number of samples: 370334\n",
            "Size in bytes: 740668\n",
            "Sample rate: 16000\n",
            "Bits/sample: 16\n",
            "Input wav file: ../input_files/denoiser/16k/Air_Conditioning_16k.wav\n",
            "Total 370334 samples read\n",
            "Total number of samples: 370334\n",
            "Size in bytes: 740668\n",
            "Sample rate: 16000\n",
            "Bits/sample: 16\n",
            "Input wav file: ../input_files/denoiser/16k/Chip_Bag_16k.wav\n",
            "Total 370334 samples read\n",
            "Total number of samples: 397257\n",
            "Size in bytes: 794514\n",
            "Sample rate: 16000\n",
            "Bits/sample: 16\n",
            "Input wav file: ../input_files/denoiser/16k/Fan_16k.wav\n",
            "Total 397257 samples read\n",
            "Total number of samples: 391153\n",
            "Size in bytes: 782306\n",
            "Sample rate: 16000\n",
            "Bits/sample: 16\n",
            "Input wav file: ../input_files/denoiser/16k/Typing_16k.wav\n",
            "Total 391153 samples read\n",
            "Total number of samples: 454321\n",
            "Size in bytes: 908642\n",
            "Sample rate: 16000\n",
            "Bits/sample: 16\n",
            "Input wav file: ../input_files/denoiser/16k/VAD_Rain_16k.wav\n",
            "Total 454321 samples read\n",
            "Total number of samples: 370334\n",
            "Size in bytes: 740668\n",
            "Sample rate: 16000\n",
            "Bits/sample: 16\n",
            "Input wav file: ../input_files/denoiser/16k/Air_Conditioning_16k.wav\n",
            "Total 370334 samples read\n",
            "Total number of samples: 370334\n",
            "Size in bytes: 740668\n",
            "Sample rate: 16000\n",
            "Bits/sample: 16\n",
            "Input wav file: ../input_files/denoiser/16k/Chip_Bag_16k.wav\n",
            "Total 370334 samples read\n",
            "Total number of samples: 397257\n",
            "Size in bytes: 794514\n",
            "Sample rate: 16000\n",
            "Bits/sample: 16\n",
            "Input wav file: ../input_files/denoiser/16k/Fan_16k.wav\n",
            "Total 397257 samples read\n",
            "Total number of samples: 391153\n",
            "Size in bytes: 782306\n",
            "Sample rate: 16000\n",
            "Bits/sample: 16\n",
            "Input wav file: ../input_files/denoiser/16k/Typing_16k.wav\n",
            "Total 391153 samples read\n",
            "Total number of samples: 454321\n",
            "Size in bytes: 908642\n",
            "Sample rate: 16000\n",
            "Bits/sample: 16\n",
            "Input wav file: ../input_files/denoiser/16k/VAD_Rain_16k.wav\n",
            "Total 454321 samples read\n",
            "Processed: [==========] 100% \n",
            "Processing time 2.2 secs for 28 secs audio file (0.077 secs processing time per sec of audio)\n",
            "Output wav files written. \n",
            "[I] [0:0:4:117] [7840] Total successful runs: 2840\n"
          ]
        }
      ]
    },
    {
      "cell_type": "code",
      "source": [
        "!/content/Audio_Effects_SDK/samples/effects_demo/run_effect.sh -g v100 -s 16 -b 1 -e denoiser"
      ],
      "metadata": {
        "colab": {
          "base_uri": "https://localhost:8080/"
        },
        "id": "HMYQb1VIoEbn",
        "outputId": "4386c93a-1a8e-48f3-9bb5-18a3b146178b"
      },
      "execution_count": 29,
      "outputs": [
        {
          "output_type": "stream",
          "name": "stdout",
          "text": [
            "Using the config file /tmp/tmp_cfg.txt\n",
            "intensity ratio is ::1!!\n",
            "Total Effects supported: 5\n",
            "(1) denoiser\n",
            "(2) dereverb\n",
            "(3) dereverb_denoiser\n",
            "(4) aec\n",
            "(5) superres\n",
            "[I] [0:0:0:0] [10662] Logging Severity Level: INFO, Logging Target: 1\n",
            "[I] [0:0:0:19] [10662] Denoiser effect successfully created\n",
            "[I] [0:0:0:19] [10662] Use default GPU: 0\n",
            "[I] [0:0:0:19] [10662] Sample rate: 16000\n",
            "[I] [0:0:0:19] [10662] Model file name: denoiser_16k_2560.trtpkg\n",
            "[I] [0:0:0:19] [10662] Num streams: 1\n",
            "[I] [0:0:0:19] [10662] Num samples: 160\n",
            "Loading effect ... NvAFX_Load() failed\n",
            "[I] [0:0:0:19] [10662] Previous Intensity Ratio [1.00]\n",
            "[I] [0:0:0:19] [10662] Intensity Ratio: 1.00 \n",
            "[E] [0:0:0:228] [10662] Cannot load model \"denoiser_16k_2560\"\n",
            "\n",
            "[E] [0:0:0:228] [10662] Unable to load TRT Model\n",
            "[E] [0:0:0:228] [10662] Fatal error encountered\n"
          ]
        }
      ]
    },
    {
      "cell_type": "code",
      "source": [
        "!pwd"
      ],
      "metadata": {
        "colab": {
          "base_uri": "https://localhost:8080/"
        },
        "id": "faIg7mJUpYwl",
        "outputId": "b2b3cd77-3a54-4c26-cae3-eae6ae387cc9"
      },
      "execution_count": 30,
      "outputs": [
        {
          "output_type": "stream",
          "name": "stdout",
          "text": [
            "/content/Audio_Effects_SDK/samples/effects_demo\n"
          ]
        }
      ]
    },
    {
      "cell_type": "code",
      "source": [
        "!/content/Audio_Effects_SDK/samples/effects_demo/effects_demo -c /content/Audio_Effects_SDK/samples/effects_demo/t4_denoise16k_1_cfg.txt"
      ],
      "metadata": {
        "colab": {
          "base_uri": "https://localhost:8080/"
        },
        "id": "JzWmKco0pZXP",
        "outputId": "3218918b-4064-400e-b276-b1f38ed1e9d0"
      },
      "execution_count": 40,
      "outputs": [
        {
          "output_type": "stream",
          "name": "stdout",
          "text": [
            "intensity ratio is ::1!!\n",
            "Total Effects supported: 5\n",
            "(1) denoiser\n",
            "(2) dereverb\n",
            "(3) dereverb_denoiser\n",
            "(4) aec\n",
            "(5) superres\n",
            "[I] [0:0:0:0] [19600] Logging Severity Level: INFO, Logging Target: 1\n",
            "[I] [0:0:0:17] [19600] Denoiser effect successfully created\n",
            "[I] [0:0:0:17] [19600] Use default GPU: 0\n",
            "[I] [0:0:0:17] [19600] Sample rate: 16000\n",
            "[I] [0:0:0:17] [19600] Model file name: denoiser_16k_1024.trtpkg\n",
            "[I] [0:0:0:17] [19600] Num streams: 1\n",
            "Loading effect ... [I] [0:0:0:17] [19600] Num samples: 160\n",
            "[I] [0:0:0:17] [19600] Previous Intensity Ratio [1.00]\n",
            "[I] [0:0:0:17] [19600] Intensity Ratio: 1.00 \n",
            "Done\n",
            "Effect properties:\n",
            "  Effect             : denoiser\n",
            "  Input Channels     : 1\n",
            "  Input Sample Rate  : 16000\n",
            "  Output Sample Rate : 16000\n",
            "  Samples per frame  : 160\n",
            "  Number of streams  : 1\n",
            "[I] [0:0:1:900] [19600] Model successfully loaded\n",
            "Total number of samples: 723982\n",
            "Size in bytes: 1447964\n",
            "Sample rate: 16000\n",
            "Bits/sample: 16\n",
            "Input wav file: /content/Audio_Effects_SDK/samples/input_files/denoiser/16k/song2.wav\n",
            "Total 723982 samples read\n",
            "Processing time 3.2 secs for 45 secs audio file (0.072 secs processing time per sec of audio)\n",
            "Output wav files written. \n",
            "[I] [0:0:5:180] [19600] Total successful runs: 4525\n"
          ]
        }
      ]
    },
    {
      "cell_type": "code",
      "source": [
        "!unzip /content/drive/MyDrive/NVIDIA/files_video.zip"
      ],
      "metadata": {
        "colab": {
          "base_uri": "https://localhost:8080/"
        },
        "id": "DO7wUL_nsK_j",
        "outputId": "93b221fc-53ba-4f14-fa42-ed1a722e4ea5"
      },
      "execution_count": 41,
      "outputs": [
        {
          "output_type": "stream",
          "name": "stdout",
          "text": [
            "Archive:  /content/drive/MyDrive/NVIDIA/files_video.zip\n",
            "  inflating: videofx-sdk-linux_0.7.2.0.tgz  \n"
          ]
        }
      ]
    },
    {
      "cell_type": "code",
      "source": [
        "!tar xvf /content/videofx-sdk-linux_0.7.2.0.tgz"
      ],
      "metadata": {
        "colab": {
          "base_uri": "https://localhost:8080/"
        },
        "id": "8znar1am17r6",
        "outputId": "a83ed308-377b-427b-bfbc-1270d9f31a2c"
      },
      "execution_count": 46,
      "outputs": [
        {
          "output_type": "stream",
          "name": "stdout",
          "text": [
            "./\n",
            "./VideoFX/\n",
            "./VideoFX/lib/\n",
            "./VideoFX/lib/libNVTRTLogger.so.0.7.2\n",
            "./VideoFX/lib/libVideoFX.so.0\n",
            "./VideoFX/lib/libNVTRTLogger.so.0.7\n",
            "./VideoFX/lib/libNVCVImage.so.0.7.2\n",
            "./VideoFX/lib/libNVTRTLogger.so\n",
            "./VideoFX/lib/libVideoFX.so.0.7.2\n",
            "./VideoFX/lib/libVideoFX.so.0.7\n",
            "./VideoFX/lib/libNVCVImage.so.0\n",
            "./VideoFX/lib/libNVCVImage.so\n",
            "./VideoFX/lib/libNVCVImage.so.0.7\n",
            "./VideoFX/lib/libVideoFX.so\n",
            "./VideoFX/lib/models/\n",
            "./VideoFX/lib/models/AIGS_288x512_80_m0.engine.trtpkg\n",
            "./VideoFX/lib/models/Denoise-con-75.engine.trtpkg\n",
            "./VideoFX/lib/models/Denoise-con-86.engine.trtpkg\n",
            "./VideoFX/lib/models/SR_3x_agg_86.engine.trtpkg\n",
            "./VideoFX/lib/models/AR-con-86.engine.trtpkg\n",
            "./VideoFX/lib/models/AIGS_288x512_70_m1_1_4_8.engine.trtpkg\n",
            "./VideoFX/lib/models/Denoise-agg-70.engine.trtpkg\n",
            "./VideoFX/lib/models/AIGS_288x512_75_m0_1_4_8.engine.trtpkg\n",
            "./VideoFX/lib/models/Denoise-agg-86.engine.trtpkg\n",
            "./VideoFX/lib/models/AIGS_288x512_75_m1_1_4_8.engine.trtpkg\n",
            "./VideoFX/lib/models/AR-con-75.engine.trtpkg\n",
            "./VideoFX/lib/models/AIGS_288x512_86_m0.engine.trtpkg\n",
            "./VideoFX/lib/models/AIGS_288x512_80_m1.engine.trtpkg\n",
            "./VideoFX/lib/models/AR-con-70.engine.trtpkg\n",
            "./VideoFX/lib/models/SR_2x_agg_86.engine.trtpkg\n",
            "./VideoFX/lib/models/Denoise-con-70.engine.trtpkg\n",
            "./VideoFX/lib/models/Denoise-con-80.engine.trtpkg\n",
            "./VideoFX/lib/models/SR_2x_con_86.engine.trtpkg\n",
            "./VideoFX/lib/models/AIGS_288x512_75_m0.engine.trtpkg\n",
            "./VideoFX/lib/models/AIGS_288x512_86_m1_1_4_8.engine.trtpkg\n",
            "./VideoFX/lib/models/AIGS_288x512_70_m0_1_4_8.engine.trtpkg\n",
            "./VideoFX/lib/models/SR_3x_agg_70.engine.trtpkg\n",
            "./VideoFX/lib/models/SR_3x_agg_80.engine.trtpkg\n",
            "./VideoFX/lib/models/AIGS_288x512_70_m1.engine.trtpkg\n",
            "./VideoFX/lib/models/AR-agg-70.engine.trtpkg\n",
            "./VideoFX/lib/models/AIGS_288x512_75_m1.engine.trtpkg\n",
            "./VideoFX/lib/models/AIGS_288x512_86_m1.engine.trtpkg\n",
            "./VideoFX/lib/models/SR_4x_agg_75.engine.trtpkg\n",
            "./VideoFX/lib/models/AR-agg-86.engine.trtpkg\n",
            "./VideoFX/lib/models/AIGS_288x512_80_m1_1_4_8.engine.trtpkg\n",
            "./VideoFX/lib/models/AR-agg-80.engine.trtpkg\n",
            "./VideoFX/lib/models/SR_3x_con_75.engine.trtpkg\n",
            "./VideoFX/lib/models/AIGS_288x512_70_m0.engine.trtpkg\n",
            "./VideoFX/lib/models/SR_4x_con_86.engine.trtpkg\n",
            "./VideoFX/lib/models/AIGS_288x512_80_m0_1_4_8.engine.trtpkg\n",
            "./VideoFX/lib/models/SR_2x_agg_75.engine.trtpkg\n",
            "./VideoFX/lib/models/SR_3x_con_70.engine.trtpkg\n",
            "./VideoFX/lib/models/SR_4x_con_70.engine.trtpkg\n",
            "./VideoFX/lib/models/SR_4x_agg_86.engine.trtpkg\n",
            "./VideoFX/lib/models/SR_2x_con_80.engine.trtpkg\n",
            "./VideoFX/lib/models/SR_2x_agg_70.engine.trtpkg\n",
            "./VideoFX/lib/models/SR_4x_agg_80.engine.trtpkg\n",
            "./VideoFX/lib/models/Denoise-agg-80.engine.trtpkg\n",
            "./VideoFX/lib/models/SR_2x_agg_80.engine.trtpkg\n",
            "./VideoFX/lib/models/SR_3x_con_80.engine.trtpkg\n",
            "./VideoFX/lib/models/SR_4x_agg_70.engine.trtpkg\n",
            "./VideoFX/lib/models/SR_2x_con_75.engine.trtpkg\n",
            "./VideoFX/lib/models/SR_3x_agg_75.engine.trtpkg\n",
            "./VideoFX/lib/models/SR_2x_con_70.engine.trtpkg\n",
            "./VideoFX/lib/models/AIGS_288x512_86_m0_1_4_8.engine.trtpkg\n",
            "./VideoFX/lib/models/Denoise-agg-75.engine.trtpkg\n",
            "./VideoFX/lib/models/SR_3x_con_86.engine.trtpkg\n",
            "./VideoFX/lib/models/AR-agg-75.engine.trtpkg\n",
            "./VideoFX/lib/models/SR_4x_con_80.engine.trtpkg\n",
            "./VideoFX/lib/models/AR-con-80.engine.trtpkg\n",
            "./VideoFX/lib/models/SR_4x_con_75.engine.trtpkg\n",
            "./VideoFX/lib/libNVTRTLogger.so.0\n",
            "./VideoFX/README_quickstart.md\n",
            "./VideoFX/share/\n",
            "./VideoFX/share/bin/\n",
            "./VideoFX/share/bin/ThirdPartyLicenses.txt\n",
            "./VideoFX/share/samples/\n",
            "./VideoFX/share/samples/UpscalePipelineApp/\n",
            "./VideoFX/share/samples/UpscalePipelineApp/setup_env.sh\n",
            "./VideoFX/share/samples/UpscalePipelineApp/CMakeLists.txt\n",
            "./VideoFX/share/samples/UpscalePipelineApp/run_upscalepipeline.sh\n",
            "./VideoFX/share/samples/UpscalePipelineApp/UpscalePipeline.cpp\n",
            "./VideoFX/share/samples/external/\n",
            "./VideoFX/share/samples/external/ThirdPartyLicenses.txt\n",
            "./VideoFX/share/samples/external/CMakeLists.txt\n",
            "./VideoFX/share/samples/AigsEffectApp/\n",
            "./VideoFX/share/samples/AigsEffectApp/run_aigs_image.sh\n",
            "./VideoFX/share/samples/AigsEffectApp/run_aigs_webcam.sh\n",
            "./VideoFX/share/samples/AigsEffectApp/setup_env.sh\n",
            "./VideoFX/share/samples/AigsEffectApp/CMakeLists.txt\n",
            "./VideoFX/share/samples/AigsEffectApp/AigsEffectApp.cpp\n",
            "./VideoFX/share/samples/DenoiseEffectApp/\n",
            "./VideoFX/share/samples/DenoiseEffectApp/run_denoiseeffect.sh\n",
            "./VideoFX/share/samples/DenoiseEffectApp/DenoiseEffectApp\n",
            "./VideoFX/share/samples/DenoiseEffectApp/setup_env.sh\n",
            "./VideoFX/share/samples/DenoiseEffectApp/CMakeLists.txt\n",
            "./VideoFX/share/samples/DenoiseEffectApp/DenoiseEffectApp.cpp\n",
            "./VideoFX/share/samples/input/\n",
            "./VideoFX/share/samples/input/LeFret_012300.jpg\n",
            "./VideoFX/share/samples/input/input_0_100_frames.mp4\n",
            "./VideoFX/share/samples/input/LeFret_000900.jpg\n",
            "./VideoFX/share/samples/input/input2.jpg\n",
            "./VideoFX/share/samples/input/input1.jpg\n",
            "./VideoFX/share/samples/input/LeFret_001400.jpg\n",
            "./VideoFX/share/samples/input/LeFret_003400.jpg\n",
            "./VideoFX/share/samples/input/input_100_250_frames.mp4\n",
            "./VideoFX/share/samples/input/input_003054.jpg\n",
            "./VideoFX/share/samples/utils/\n",
            "./VideoFX/share/samples/utils/nvCVOpenCV.h\n",
            "./VideoFX/share/samples/CMakeLists.txt\n",
            "./VideoFX/share/samples/NVOSSLicense.txt\n",
            "./VideoFX/share/samples/VideoEffectsApp/\n",
            "./VideoFX/share/samples/VideoEffectsApp/VideoEffectsApp.cpp\n",
            "./VideoFX/share/samples/VideoEffectsApp/setup_env.sh\n",
            "./VideoFX/share/samples/VideoEffectsApp/CMakeLists.txt\n",
            "./VideoFX/share/samples/VideoEffectsApp/run_videoeffects.sh\n",
            "./VideoFX/share/samples/BatchEffectApp/\n",
            "./VideoFX/share/samples/BatchEffectApp/run_batcheffect.sh\n",
            "./VideoFX/share/samples/BatchEffectApp/run_batchaigseffect.sh\n",
            "./VideoFX/share/samples/BatchEffectApp/run_batchdenoiseeffect.sh\n",
            "./VideoFX/share/samples/BatchEffectApp/BatchUtilities.h\n",
            "./VideoFX/share/samples/BatchEffectApp/BatchUtilities.cpp\n",
            "./VideoFX/share/samples/BatchEffectApp/BatchEffectApp.cpp\n",
            "./VideoFX/share/samples/BatchEffectApp/BatchDenoiseEffectApp.cpp\n",
            "./VideoFX/share/samples/BatchEffectApp/setup_env.sh\n",
            "./VideoFX/share/samples/BatchEffectApp/BatchAigsEffectApp.cpp\n",
            "./VideoFX/share/samples/BatchEffectApp/BatchAigsEffectApp\n",
            "./VideoFX/share/samples/BatchEffectApp/CMakeLists.txt\n",
            "./VideoFX/share/samples/BatchEffectApp/BatchDenoiseEffectApp\n",
            "./VideoFX/share/samples/BatchEffectApp/BatchEffectApp\n",
            "./VideoFX/share/nvvfx/\n",
            "./VideoFX/share/nvvfx/src/\n",
            "./VideoFX/share/nvvfx/src/nvVideoEffectsProxy.cpp\n",
            "./VideoFX/share/nvvfx/src/nvCVImageProxy.cpp\n",
            "./VideoFX/share/nvvfx/NVOSSLicense.txt\n",
            "./VideoFX/share/build_samples.sh\n",
            "./VideoFX/share/version.h\n",
            "./VideoFX/share/Maxine_SDK_License_(1Apr2021).pdf\n",
            "./VideoFX/share/CMakeLists.txt\n",
            "./VideoFX/share/docs/\n",
            "./VideoFX/share/docs/NVIDIA_Video_Effects_SDK_Programming_Guide.pdf\n",
            "./VideoFX/share/docs/NvCVImage_API_Guide.pdf\n",
            "./VideoFX/share/docs/NVIDIA_Video_Effects_SDK_System_Guide.pdf\n",
            "./VideoFX/share/cmake/\n",
            "./VideoFX/share/cmake/FindTensorRT.cmake\n",
            "./VideoFX/include/\n",
            "./VideoFX/include/nvCVImage.h\n",
            "./VideoFX/include/nvVideoEffects.h\n",
            "./VideoFX/include/nvCVStatus.h\n"
          ]
        }
      ]
    },
    {
      "cell_type": "code",
      "source": [
        "!/content/VideoFX/share/samples/UpscalePipelineApp/run_upscalepipeline.sh"
      ],
      "metadata": {
        "colab": {
          "base_uri": "https://localhost:8080/"
        },
        "id": "LMsreUqq2Xty",
        "outputId": "ea5b2039-67bb-421b-ee50-07b63236d4c6"
      },
      "execution_count": 47,
      "outputs": [
        {
          "output_type": "stream",
          "name": "stdout",
          "text": [
            "/content/VideoFX/share/samples/UpscalePipelineApp/run_upscalepipeline.sh: 3: .: cannot open ./setup_env.sh: No such file\n"
          ]
        }
      ]
    },
    {
      "cell_type": "code",
      "source": [
        "%cd /content/VideoFX/share/samples/VideoEffectsApp"
      ],
      "metadata": {
        "colab": {
          "base_uri": "https://localhost:8080/"
        },
        "id": "Uucok6Th3gP6",
        "outputId": "1121978a-e3ac-447a-90d6-3eecc8e8907a"
      },
      "execution_count": 48,
      "outputs": [
        {
          "output_type": "stream",
          "name": "stdout",
          "text": [
            "/content/VideoFX/share/samples/VideoEffectsApp\n"
          ]
        }
      ]
    },
    {
      "cell_type": "code",
      "source": [
        "!/content/VideoFX/share/samples/VideoEffectsApp/setup_env.sh"
      ],
      "metadata": {
        "colab": {
          "base_uri": "https://localhost:8080/"
        },
        "id": "ofCNU5yX34wX",
        "outputId": "97a54f97-9132-49a5-b293-359024a01e60"
      },
      "execution_count": 50,
      "outputs": [
        {
          "output_type": "stream",
          "name": "stdout",
          "text": [
            "ERROR: Could not find TensorRT 8.5.1.7\n",
            "ERROR: Could not find cuDNN 8.6.0\n",
            "ERROR: Could not find VideoFX lib\n",
            "ERROR: Could not find VideoFX models\n",
            "ERROR: Could not find VideoFX share\n"
          ]
        }
      ]
    },
    {
      "cell_type": "code",
      "source": [],
      "metadata": {
        "id": "y3zufQoY37ZY"
      },
      "execution_count": null,
      "outputs": []
    }
  ]
}